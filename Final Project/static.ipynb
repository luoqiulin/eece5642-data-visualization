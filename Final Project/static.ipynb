{
 "cells": [
  {
   "cell_type": "code",
   "execution_count": 51,
   "id": "ee6cdbdf",
   "metadata": {},
   "outputs": [
    {
     "data": {
      "text/html": [
       "        <script type=\"text/javascript\">\n",
       "        window.PlotlyConfig = {MathJaxConfig: 'local'};\n",
       "        if (window.MathJax) {MathJax.Hub.Config({SVG: {font: \"STIX-Web\"}});}\n",
       "        if (typeof require !== 'undefined') {\n",
       "        require.undef(\"plotly\");\n",
       "        requirejs.config({\n",
       "            paths: {\n",
       "                'plotly': ['https://cdn.plot.ly/plotly-2.4.2.min']\n",
       "            }\n",
       "        });\n",
       "        require(['plotly'], function(Plotly) {\n",
       "            window._Plotly = Plotly;\n",
       "        });\n",
       "        }\n",
       "        </script>\n",
       "        "
      ]
     },
     "metadata": {},
     "output_type": "display_data"
    }
   ],
   "source": [
    "import numpy as np\n",
    "import pandas as pd\n",
    "import matplotlib.pyplot as plt\n",
    "import seaborn as sns\n",
    "import warnings \n",
    "warnings.filterwarnings('ignore')\n",
    "import plotly.express as px\n",
    "import plotly.offline as py\n",
    "py.init_notebook_mode(connected=True)"
   ]
  },
  {
   "cell_type": "code",
   "execution_count": null,
   "id": "50a21b2b",
   "metadata": {},
   "outputs": [],
   "source": [
    "df = pd.read_excel('nation.1751_2019.xlsx')\n",
    "df.head()"
   ]
  },
  {
   "cell_type": "code",
   "execution_count": 53,
   "id": "b2830a37",
   "metadata": {},
   "outputs": [],
   "source": [
    "df.Nation = df.Nation.apply(lambda x: x.title())"
   ]
  },
  {
   "cell_type": "code",
   "execution_count": 54,
   "id": "034988aa",
   "metadata": {},
   "outputs": [],
   "source": [
    "df.Nation[df.Nation == 'United States Of America'] = 'United States of America'\n",
    "df.Nation[df.Nation == 'China (Mainland)'] = 'China'\n",
    "df.Nation[df.Nation == 'France (Including Monaco)'] = 'France'\n",
    "df.Nation[df.Nation == 'Italy (Including San Marino)'] = 'Italy'\n",
    "df.Nation[df.Nation == 'Plurinational State Of Bolivia'] = 'Bolivia'\n",
    "df.Nation[df.Nation == 'Democratic People S Republic Of Korea'] = 'North Korea'\n",
    "df.Nation[df.Nation == 'Republic Of Korea'] = 'South Korea'\n",
    "df.Nation[df.Nation == 'Islamic Republic Of Iran'] = 'Iran'\n",
    "df.Nation[df.Nation == 'Myanmar (Formerly Burma)'] = 'Myanmar'\n",
    "df.Nation[df.Nation == 'Viet Nam'] = 'Vietnam'\n",
    "df.Nation[df.Nation == 'Bosnia & Herzegovina'] = 'Bosnia and Herzegovina'\n",
    "df.Nation[df.Nation == 'Serbia'] = 'Republic of Serbia'\n",
    "df.Nation[df.Nation == 'Republic Of Moldova'] = 'Moldova'\n",
    "df.Nation[df.Nation == 'Republic Of Sudan'] = 'Sudan'\n",
    "df.Nation[df.Nation == 'Republic Of South Sudan'] = 'South Sudan'\n",
    "df.Nation[df.Nation == 'Democratic Republic Of The Congo (Formerly Zaire)'] = 'Democratic Republic of the Congo'\n",
    "df.Nation[df.Nation == 'United Republic Of Tanzania'] = \"United Republic of Tanzania\"\n",
    "df.Nation[df.Nation == 'Libyan Arab Jamahiriyah'] = 'Libya'\n",
    "df.Nation[df.Nation == 'Cote D Ivoire'] = 'Ivory Coast'\n",
    "df.Nation[df.Nation == 'Republic Of Cameroon'] = 'Cameroon'\n",
    "df.Nation[df.Nation == 'Congo'] = 'Republic of the Congo'\n",
    "df.Nation[df.Nation == 'Syrian Arab Republic'] = 'Syria'"
   ]
  },
  {
   "cell_type": "code",
   "execution_count": 56,
   "id": "6af9ec55",
   "metadata": {},
   "outputs": [],
   "source": [
    "\n",
    "df.columns = ['Nation','Year','Total_CO2','Solid_fuel', 'Liquid_fuel','Gas_fuel', 'Cement_Production', 'Gas_flaring','Per_capita_CO2', 'Bunker_fuel']"
   ]
  },
  {
   "cell_type": "code",
   "execution_count": 60,
   "id": "3657d9e5",
   "metadata": {},
   "outputs": [],
   "source": [
    "df[['Solid_fuel', 'Liquid_fuel', 'Gas_fuel','Cement_Production', 'Gas_flaring']] = df[['Solid_fuel', 'Liquid_fuel', 'Gas_fuel','Cement_Production', 'Gas_flaring']].fillna(0)"
   ]
  },
  {
   "cell_type": "code",
   "execution_count": null,
   "id": "9ba99ba8",
   "metadata": {},
   "outputs": [],
   "source": [
    "len(df[df.Year == 1800].Nation.unique()), len(df[df.Year == 1900].Nation.unique()), len(df[df.Year == 1950].Nation.unique()), len(df[df.Year == 2019].Nation.unique()) "
   ]
  },
  {
   "cell_type": "code",
   "execution_count": 63,
   "id": "7306ebda",
   "metadata": {},
   "outputs": [],
   "source": [
    "df_n = df[df.Year >1949]"
   ]
  },
  {
   "cell_type": "code",
   "execution_count": 65,
   "id": "90525489",
   "metadata": {},
   "outputs": [],
   "source": [
    "df_n.reset_index(inplace = True)\n",
    "df_n.drop('index', axis=1, inplace = True)"
   ]
  },
  {
   "cell_type": "code",
   "execution_count": 66,
   "id": "389ef959",
   "metadata": {},
   "outputs": [],
   "source": [
    "df_n['Total_all'] = df_n[['Total_CO2','Bunker_fuel']].sum(axis=1)\n",
    "df_n.loc[len(df_n)] =  df_n.sum(axis=0)"
   ]
  },
  {
   "cell_type": "code",
   "execution_count": 67,
   "id": "5519fbef",
   "metadata": {
    "scrolled": true
   },
   "outputs": [],
   "source": [
    "df_n.iloc[13777,0] = 'Nation_agg'  \n",
    "df_n.iloc[13777,1] = 0            \n",
    "df_n.iloc[13777,8] = df_n[:13777].Per_capita_CO2.mean()"
   ]
  },
  {
   "cell_type": "code",
   "execution_count": null,
   "id": "4ee03dd3",
   "metadata": {},
   "outputs": [],
   "source": [
    "plt.style.use(\"fivethirtyeight\")\n",
    "a = df_n.loc[13777,['Solid_fuel','Liquid_fuel','Gas_fuel','Cement_Production','Gas_flaring','Bunker_fuel']]\n",
    "explode=[0,0,0,0.1,0.2,0.1]\n",
    "a.plot.pie(figsize=(8,8), pctdistance = .6, textprops={'fontsize': 14}, autopct='%1.1f%%', explode=explode, shadow=True) \n",
    "plt.title('Emissions for each fuel type from 1950 for all nations', fontsize = 20,fontweight=\"bold\", x=0.6, y=1)\n",
    "plt.ylabel('')\n",
    "plt.show()"
   ]
  },
  {
   "cell_type": "code",
   "execution_count": null,
   "id": "5956abf6",
   "metadata": {
    "scrolled": false
   },
   "outputs": [],
   "source": [
    "df.loc[:,['Year','Total_CO2']].groupby('Year').sum().plot.line(figsize=(12,6), legend=None, linewidth=3.5)\n",
    "plt.annotate('',xy=(1945,0.18e7), xytext=(1895,1.1e6) ,xycoords='data',arrowprops = dict(arrowstyle='->', connectionstyle='arc3',color='red',lw=2))\n",
    "plt.annotate(\"Start of Fossil-fuel Era\",xy=(1888,1.22e6)rotation= 9,va = 'bottom', ha = 'left' ,fontsize=15)\n",
    "plt.annotate('',xy=(2015,1e7) , xytext=(1955,2.6e6) ,xycoords='data',arrowprops = dict(arrowstyle='->', connectionstyle='arc3',color='red',lw=2))\n",
    "plt.annotate(\"Commercial Industrialization and Population growth\",xy=(1948,2.7e6),rotation= 58,va = 'bottom', ha = 'left' ,fontsize=14)\n",
    "plt.title('Global CO2 Emissions trend', fontsize = 20,fontweight=\"bold\", x=0.5, y=1)\n",
    "plt.xlabel('Year', fontsize=18)\n",
    "plt.ylabel(\"CO2 Emissions\",fontsize=18)\n",
    "plt.show()"
   ]
  },
  {
   "cell_type": "code",
   "execution_count": null,
   "id": "f723bac2",
   "metadata": {},
   "outputs": [],
   "source": [
    "df_1990_total = df_n[df_n.Year > 1990].groupby('Nation').sum()[['Total_CO2','Solid_fuel', 'Liquid_fuel',\n",
    "             'Gas_fuel', 'Cement_Production', 'Gas_flaring', 'Bunker_fuel']]\n",
    "df_1990_total.sort_values('Total_CO2',ascending=False).Total_CO2.head(10).plot.barh(cmap = 'coolwarm_r', figsize=(10,6))\n",
    "plt.xlabel(\"Total CO2 Emissions\", fontsize = 18)\n",
    "plt.ylabel(\"Nation\", fontsize=18)\n",
    "plt.title(\"CO2 emissions of top 10 countries from 1990 to 2019\", fontsize= 22, fontweight=\"bold\", x=0.43, y=1)\n",
    "plt.show()"
   ]
  },
  {
   "cell_type": "code",
   "execution_count": null,
   "id": "873ad76d",
   "metadata": {},
   "outputs": [],
   "source": [
    "df_1990_total.sort_values('Total_CO2',ascending=False).Total_CO2.tail(10).plot.barh(cmap = 'summer', figsize=(10,6))\n",
    "plt.xlabel(\"Total CO2 Emissions\", fontsize = 18)\n",
    "plt.ylabel(\"Nation\", fontsize=18)\n",
    "plt.title(\"CO2 emissions of bottom 10 countries from 1990 to 2019\", fontsize= 22, fontweight=\"bold\", x=0.43, y=1)\n",
    "plt.show()"
   ]
  },
  {
   "cell_type": "code",
   "execution_count": null,
   "id": "9d1e77c8",
   "metadata": {
    "scrolled": false
   },
   "outputs": [],
   "source": [
    "plt.style.use('seaborn')\n",
    "fig, (ax1, ax2) = plt.subplots(1, 2)\n",
    "df_n.loc[(df_n['Nation'] == 'China') & (df_n.Year>1990)].plot.line(x='Year', y ='Total_CO2', ax=ax1, figsize=(18,8), label = 'China', linewidth=3)\n",
    "df_n.loc[(df_n['Nation'] == 'United States of America') & (df_n.Year>1990)].plot.line(x='Year',y ='Total_CO2', ax=ax1, label = 'United States of America', linewidth=3)                                                \n",
    "df_n.loc[(df_n['Nation'] == 'India') & (df_n.Year>1990)].plot.line(x='Year', y ='Total_CO2',ax=ax1, label = 'India', linewidth=3)                                                          \n",
    "df_n.loc[(df_n['Nation'] == 'Russian Federation') & (df_n.Year>1990)].plot.line(x='Year', y ='Total_CO2',ax=ax1, label = 'Russian Federation', linewidth=3)                                       \n",
    "df_n.loc[(df_n['Nation'] == 'Japan') & (df_n.Year>1990)].plot.line(x='Year', y ='Total_CO2', ax=ax1, label = 'Japan', linewidth=3)                                                                 \n",
    "ax1.set_ylabel(\"Nation\", fontsize=20)\n",
    "ax1.set_title(\"Total CO2 Emissions\", fontsize=18, fontweight='bold')\n",
    "df_n.loc[(df_n['Nation'] == 'China') & (df_n.Year>1990)].plot.line(x='Year', y ='Per_capita_CO2', ax=ax2,  label = 'China', linewidth=3)                                                                                                                               \n",
    "df_n.loc[(df_n['Nation'] == 'United States of America') & (df_n.Year>1990)].plot.line(x='Year',y ='Per_capita_CO2',ax=ax2, label = 'United States of America', linewidth=3)                                                                                    \n",
    "df_n.loc[(df_n['Nation'] == 'India') & (df_n.Year>1990)].plot.line(x='Year', y ='Per_capita_CO2',ax=ax2, label = 'India', linewidth=3)                                                                 \n",
    "df_n.loc[(df_n['Nation'] == 'Russian Federation') & (df_n.Year>1990)].plot.line(x='Year', y ='Per_capita_CO2',ax=ax2, label = 'Russian Federation', linewidth=3)                                                                              \n",
    "df_n.loc[(df_n['Nation'] == 'Japan') & (df_n.Year>1990)].plot.line(x='Year', y ='Per_capita_CO2', ax=ax2, label = 'Japan', linewidth=3)                                                                  \n",
    "ax2.set_title(\"Per-Capita CO2 Emissions\", fontsize=20, fontweight='bold')\n",
    "fig.suptitle('Emissions trends from 1990 for top 5 emitters',fontsize=25, fontweight='bold')\n",
    "ax1.annotate('',xy=(2014,2.95e6), xytext=(2005,1.7e6),xycoords='data',arrowprops = dict(arrowstyle=\"simple\",connectionstyle=\"arc3,rad=-0.1\"),)\n",
    "ax1.annotate(\"Rapid Economic & Population Growth\",xy=(2003,1.8e6),rotation= 48,va = 'bottom',ha = 'left' ,fontsize=15)\n",
    "plt.show()"
   ]
  }
 ],
 "metadata": {
  "kernelspec": {
   "display_name": "Python 3 (ipykernel)",
   "language": "python",
   "name": "python3"
  },
  "language_info": {
   "codemirror_mode": {
    "name": "ipython",
    "version": 3
   },
   "file_extension": ".py",
   "mimetype": "text/x-python",
   "name": "python",
   "nbconvert_exporter": "python",
   "pygments_lexer": "ipython3",
   "version": "3.9.12"
  }
 },
 "nbformat": 4,
 "nbformat_minor": 5
}
