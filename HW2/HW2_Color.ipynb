{
  "nbformat": 4,
  "nbformat_minor": 0,
  "metadata": {
    "colab": {
      "provenance": []
    },
    "kernelspec": {
      "name": "python3",
      "display_name": "Python 3"
    },
    "language_info": {
      "name": "python"
    }
  },
  "cells": [
    {
      "cell_type": "code",
      "execution_count": 6,
      "metadata": {
        "colab": {
          "base_uri": "https://localhost:8080/"
        },
        "id": "Ty1L8npXSnjD",
        "outputId": "90da318f-66a0-4115-a565-3df5cb01be43"
      },
      "outputs": [
        {
          "output_type": "stream",
          "name": "stdout",
          "text": [
            "16.919008156730108\n",
            "10.222034728739088\n",
            "28.275448239970974\n"
          ]
        }
      ],
      "source": [
        "# RGB to XYZ\n",
        "sR = 137\n",
        "sG = 56\n",
        "sB = 146\n",
        "\n",
        "var_R = sR / 255\n",
        "var_G = sG / 255\n",
        "var_B = sB / 255\n",
        "\n",
        "if var_R > 0.04045: \n",
        "  var_R = ( ( var_R + 0.055 ) / 1.055 ) ** 2.4\n",
        "else:                  \n",
        "  var_R = var_R / 12.92\n",
        "if var_G > 0.04045: \n",
        "  var_G = ( ( var_G + 0.055 ) / 1.055 ) ** 2.4\n",
        "else:                  \n",
        "  var_G = var_G / 12.92\n",
        "if var_B > 0.04045: \n",
        "  var_B = ( ( var_B + 0.055 ) / 1.055 ) ** 2.4\n",
        "else:                  \n",
        "  var_B = var_B / 12.92\n",
        "\n",
        "var_R = var_R * 100\n",
        "var_G = var_G * 100\n",
        "var_B = var_B * 100\n",
        "\n",
        "X = var_R * 0.4124 + var_G * 0.3576 + var_B * 0.1805\n",
        "Y = var_R * 0.2126 + var_G * 0.7152 + var_B * 0.0722\n",
        "Z = var_R * 0.0193 + var_G * 0.1192 + var_B * 0.9505\n",
        "print(X)\n",
        "print(Y)\n",
        "print(Z)"
      ]
    },
    {
      "cell_type": "code",
      "source": [
        "# RGB to xyY\n",
        "Y = Y\n",
        "x = X / ( X + Y + Z )\n",
        "y = Y / ( X + Y + Z )\n",
        "print(x)\n",
        "print(y)\n",
        "print(Y)"
      ],
      "metadata": {
        "colab": {
          "base_uri": "https://localhost:8080/"
        },
        "id": "g3NQMcuuTzBa",
        "outputId": "952564d3-8491-4389-c766-a1afa9744bc3"
      },
      "execution_count": 7,
      "outputs": [
        {
          "output_type": "stream",
          "name": "stdout",
          "text": [
            "0.3053063774541846\n",
            "0.1844583538427325\n",
            "10.222034728739088\n"
          ]
        }
      ]
    },
    {
      "cell_type": "code",
      "source": [
        "# RGB to CMYK\n",
        "C = 1 - ( sR / 255 )\n",
        "M = 1 - ( sG / 255 )\n",
        "Y = 1 - ( sB / 255 )\n",
        "\n",
        "var_K = 1\n",
        "\n",
        "if C < var_K:\n",
        "  var_K = C\n",
        "if M < var_K:\n",
        "  var_K = M\n",
        "if Y < var_K:\n",
        "  var_K = Y\n",
        "if var_K == 1: \n",
        "  C = 0          \n",
        "  M = 0\n",
        "  Y = 0\n",
        "else:\n",
        "  C = ( C - var_K ) / ( 1 - var_K )\n",
        "  M = ( M - var_K ) / ( 1 - var_K )\n",
        "  Y = ( Y - var_K ) / ( 1 - var_K )\n",
        "\n",
        "K = var_K\n",
        "\n",
        "print(C)\n",
        "print(M)\n",
        "print(Y)\n",
        "print(K)"
      ],
      "metadata": {
        "colab": {
          "base_uri": "https://localhost:8080/"
        },
        "id": "Ae76910XUSd7",
        "outputId": "ba94c244-743b-4ae2-ab87-d09a329c5234"
      },
      "execution_count": 8,
      "outputs": [
        {
          "output_type": "stream",
          "name": "stdout",
          "text": [
            "0.06164383561643833\n",
            "0.6164383561643836\n",
            "0.0\n",
            "0.4274509803921569\n"
          ]
        }
      ]
    },
    {
      "cell_type": "code",
      "source": [
        "# RGB to HSV\n",
        "var_R = ( sR / 255 )\n",
        "var_G = ( sG / 255 )\n",
        "var_B = ( sB / 255 )\n",
        "\n",
        "var_Min = min( var_R, var_G, var_B )    \n",
        "var_Max = max( var_R, var_G, var_B )    \n",
        "del_Max = var_Max - var_Min             \n",
        "\n",
        "V = var_Max\n",
        "\n",
        "if del_Max == 0:                    \n",
        "  H = 0\n",
        "  S = 0\n",
        "else:                                   \n",
        "  S = del_Max / var_Max\n",
        "\n",
        "  del_R = ( ( ( var_Max - var_R ) / 6 ) + ( del_Max / 2 ) ) / del_Max\n",
        "  del_G = ( ( ( var_Max - var_G ) / 6 ) + ( del_Max / 2 ) ) / del_Max\n",
        "  del_B = ( ( ( var_Max - var_B ) / 6 ) + ( del_Max / 2 ) ) / del_Max\n",
        "\n",
        "  if var_R == var_Max:\n",
        "    H = del_B - del_G\n",
        "  elif var_G == var_Max:\n",
        "    H = ( 1 / 3 ) + del_R - del_B\n",
        "  elif var_B == var_Max:\n",
        "    H = ( 2 / 3 ) + del_G - del_R\n",
        "\n",
        "  if H < 0:\n",
        "    H += 1\n",
        "  if H > 1:\n",
        "    H -= 1\n",
        "\n",
        "print(H)\n",
        "print(S)\n",
        "print(V)"
      ],
      "metadata": {
        "colab": {
          "base_uri": "https://localhost:8080/"
        },
        "id": "QUfcVoxVVpVV",
        "outputId": "b672ef86-f6dd-41c6-d2f4-b524e46e2bba"
      },
      "execution_count": 9,
      "outputs": [
        {
          "output_type": "stream",
          "name": "stdout",
          "text": [
            "0.8166666666666665\n",
            "0.6164383561643836\n",
            "0.5725490196078431\n"
          ]
        }
      ]
    },
    {
      "cell_type": "code",
      "source": [
        "# RGB to HSL\n",
        "var_R = ( sR / 255 )\n",
        "var_G = ( sG / 255 )\n",
        "var_B = ( sB / 255 )\n",
        "\n",
        "var_Min = min( var_R, var_G, var_B )    \n",
        "var_Max = max( var_R, var_G, var_B )    \n",
        "del_Max = var_Max - var_Min             \n",
        "\n",
        "L = ( var_Max + var_Min )/ 2\n",
        "\n",
        "if del_Max == 0:                    \n",
        "  H = 0\n",
        "  S = 0\n",
        "else:                                   \n",
        "  if L < 0.5:\n",
        "    S = del_Max / ( var_Max + var_Min )\n",
        "  else:           \n",
        "    S = del_Max / ( 2 - var_Max - var_Min )\n",
        "\n",
        "  del_R = ( ( ( var_Max - var_R ) / 6 ) + ( del_Max / 2 ) ) / del_Max\n",
        "  del_G = ( ( ( var_Max - var_G ) / 6 ) + ( del_Max / 2 ) ) / del_Max\n",
        "  del_B = ( ( ( var_Max - var_B ) / 6 ) + ( del_Max / 2 ) ) / del_Max\n",
        "\n",
        "  if var_R == var_Max:\n",
        "    H = del_B - del_G\n",
        "  elif var_G == var_Max:\n",
        "    H = ( 1 / 3 ) + del_R - del_B\n",
        "  elif var_B == var_Max:\n",
        "    H = ( 2 / 3 ) + del_G - del_R\n",
        "\n",
        "  if H < 0:\n",
        "    H += 1\n",
        "  if H > 1: \n",
        "    H -= 1\n",
        "print(H)\n",
        "print(S)\n",
        "print(L)"
      ],
      "metadata": {
        "colab": {
          "base_uri": "https://localhost:8080/"
        },
        "id": "u_h2ScVyWgON",
        "outputId": "9645b364-0a51-4e12-e060-e69b513dfe8e"
      },
      "execution_count": 10,
      "outputs": [
        {
          "output_type": "stream",
          "name": "stdout",
          "text": [
            "0.8166666666666665\n",
            "0.44554455445544555\n",
            "0.396078431372549\n"
          ]
        }
      ]
    },
    {
      "cell_type": "code",
      "source": [
        "print(rgb(137, 56, 146))"
      ],
      "metadata": {
        "id": "e8ur8OEKXlP6"
      },
      "execution_count": null,
      "outputs": []
    }
  ]
}