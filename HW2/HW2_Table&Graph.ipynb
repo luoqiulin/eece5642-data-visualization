{
  "nbformat": 4,
  "nbformat_minor": 0,
  "metadata": {
    "colab": {
      "provenance": []
    },
    "kernelspec": {
      "name": "python3",
      "display_name": "Python 3"
    },
    "language_info": {
      "name": "python"
    }
  },
  "cells": [
    {
      "cell_type": "code",
      "execution_count": null,
      "metadata": {
        "id": "to5--dVAbDOM"
      },
      "outputs": [],
      "source": [
        "# if working in colab\n",
        "import pandas as pd\n",
        "from google.colab import files\n",
        "file = files.upload()\n",
        "df = pd.read_excel(\"data-1.xlsx\")\n",
        "df.head()"
      ]
    },
    {
      "cell_type": "code",
      "source": [
        "# If working in local:\n",
        "import pandas as pd\n",
        "df = pd.read_excel(\"data-1.xlsx\")\n",
        "df.head()"
      ],
      "metadata": {
        "colab": {
          "base_uri": "https://localhost:8080/",
          "height": 206
        },
        "id": "bGu9W_3hbN6X",
        "outputId": "db9a4ba2-f6e0-4a78-f6da-23c5a5a4d0d7"
      },
      "execution_count": 2,
      "outputs": [
        {
          "output_type": "execute_result",
          "data": {
            "text/plain": [
              "  Conference (Name'Year)    Acceptance rate  Num. of accepted papers  \\\n",
              "0                  CVPR'14            0.299                      540   \n",
              "1                  CVPR'15            0.283                      602   \n",
              "2                  CVPR'16            0.299                      643   \n",
              "3                  CVPR'17            0.299                      783   \n",
              "4                  CVPR'18            0.296                      979   \n",
              "\n",
              "   Num. of total submissions  \n",
              "0                       1807  \n",
              "1                       2123  \n",
              "2                       2145  \n",
              "3                       2620  \n",
              "4                       3303  "
            ],
            "text/html": [
              "\n",
              "  <div id=\"df-5c5ba175-69e4-41fd-94fa-df008cbfdef7\">\n",
              "    <div class=\"colab-df-container\">\n",
              "      <div>\n",
              "<style scoped>\n",
              "    .dataframe tbody tr th:only-of-type {\n",
              "        vertical-align: middle;\n",
              "    }\n",
              "\n",
              "    .dataframe tbody tr th {\n",
              "        vertical-align: top;\n",
              "    }\n",
              "\n",
              "    .dataframe thead th {\n",
              "        text-align: right;\n",
              "    }\n",
              "</style>\n",
              "<table border=\"1\" class=\"dataframe\">\n",
              "  <thead>\n",
              "    <tr style=\"text-align: right;\">\n",
              "      <th></th>\n",
              "      <th>Conference (Name'Year)</th>\n",
              "      <th>Acceptance rate</th>\n",
              "      <th>Num. of accepted papers</th>\n",
              "      <th>Num. of total submissions</th>\n",
              "    </tr>\n",
              "  </thead>\n",
              "  <tbody>\n",
              "    <tr>\n",
              "      <th>0</th>\n",
              "      <td>CVPR'14</td>\n",
              "      <td>0.299</td>\n",
              "      <td>540</td>\n",
              "      <td>1807</td>\n",
              "    </tr>\n",
              "    <tr>\n",
              "      <th>1</th>\n",
              "      <td>CVPR'15</td>\n",
              "      <td>0.283</td>\n",
              "      <td>602</td>\n",
              "      <td>2123</td>\n",
              "    </tr>\n",
              "    <tr>\n",
              "      <th>2</th>\n",
              "      <td>CVPR'16</td>\n",
              "      <td>0.299</td>\n",
              "      <td>643</td>\n",
              "      <td>2145</td>\n",
              "    </tr>\n",
              "    <tr>\n",
              "      <th>3</th>\n",
              "      <td>CVPR'17</td>\n",
              "      <td>0.299</td>\n",
              "      <td>783</td>\n",
              "      <td>2620</td>\n",
              "    </tr>\n",
              "    <tr>\n",
              "      <th>4</th>\n",
              "      <td>CVPR'18</td>\n",
              "      <td>0.296</td>\n",
              "      <td>979</td>\n",
              "      <td>3303</td>\n",
              "    </tr>\n",
              "  </tbody>\n",
              "</table>\n",
              "</div>\n",
              "      <button class=\"colab-df-convert\" onclick=\"convertToInteractive('df-5c5ba175-69e4-41fd-94fa-df008cbfdef7')\"\n",
              "              title=\"Convert this dataframe to an interactive table.\"\n",
              "              style=\"display:none;\">\n",
              "        \n",
              "  <svg xmlns=\"http://www.w3.org/2000/svg\" height=\"24px\"viewBox=\"0 0 24 24\"\n",
              "       width=\"24px\">\n",
              "    <path d=\"M0 0h24v24H0V0z\" fill=\"none\"/>\n",
              "    <path d=\"M18.56 5.44l.94 2.06.94-2.06 2.06-.94-2.06-.94-.94-2.06-.94 2.06-2.06.94zm-11 1L8.5 8.5l.94-2.06 2.06-.94-2.06-.94L8.5 2.5l-.94 2.06-2.06.94zm10 10l.94 2.06.94-2.06 2.06-.94-2.06-.94-.94-2.06-.94 2.06-2.06.94z\"/><path d=\"M17.41 7.96l-1.37-1.37c-.4-.4-.92-.59-1.43-.59-.52 0-1.04.2-1.43.59L10.3 9.45l-7.72 7.72c-.78.78-.78 2.05 0 2.83L4 21.41c.39.39.9.59 1.41.59.51 0 1.02-.2 1.41-.59l7.78-7.78 2.81-2.81c.8-.78.8-2.07 0-2.86zM5.41 20L4 18.59l7.72-7.72 1.47 1.35L5.41 20z\"/>\n",
              "  </svg>\n",
              "      </button>\n",
              "      \n",
              "  <style>\n",
              "    .colab-df-container {\n",
              "      display:flex;\n",
              "      flex-wrap:wrap;\n",
              "      gap: 12px;\n",
              "    }\n",
              "\n",
              "    .colab-df-convert {\n",
              "      background-color: #E8F0FE;\n",
              "      border: none;\n",
              "      border-radius: 50%;\n",
              "      cursor: pointer;\n",
              "      display: none;\n",
              "      fill: #1967D2;\n",
              "      height: 32px;\n",
              "      padding: 0 0 0 0;\n",
              "      width: 32px;\n",
              "    }\n",
              "\n",
              "    .colab-df-convert:hover {\n",
              "      background-color: #E2EBFA;\n",
              "      box-shadow: 0px 1px 2px rgba(60, 64, 67, 0.3), 0px 1px 3px 1px rgba(60, 64, 67, 0.15);\n",
              "      fill: #174EA6;\n",
              "    }\n",
              "\n",
              "    [theme=dark] .colab-df-convert {\n",
              "      background-color: #3B4455;\n",
              "      fill: #D2E3FC;\n",
              "    }\n",
              "\n",
              "    [theme=dark] .colab-df-convert:hover {\n",
              "      background-color: #434B5C;\n",
              "      box-shadow: 0px 1px 3px 1px rgba(0, 0, 0, 0.15);\n",
              "      filter: drop-shadow(0px 1px 2px rgba(0, 0, 0, 0.3));\n",
              "      fill: #FFFFFF;\n",
              "    }\n",
              "  </style>\n",
              "\n",
              "      <script>\n",
              "        const buttonEl =\n",
              "          document.querySelector('#df-5c5ba175-69e4-41fd-94fa-df008cbfdef7 button.colab-df-convert');\n",
              "        buttonEl.style.display =\n",
              "          google.colab.kernel.accessAllowed ? 'block' : 'none';\n",
              "\n",
              "        async function convertToInteractive(key) {\n",
              "          const element = document.querySelector('#df-5c5ba175-69e4-41fd-94fa-df008cbfdef7');\n",
              "          const dataTable =\n",
              "            await google.colab.kernel.invokeFunction('convertToInteractive',\n",
              "                                                     [key], {});\n",
              "          if (!dataTable) return;\n",
              "\n",
              "          const docLinkHtml = 'Like what you see? Visit the ' +\n",
              "            '<a target=\"_blank\" href=https://colab.research.google.com/notebooks/data_table.ipynb>data table notebook</a>'\n",
              "            + ' to learn more about interactive tables.';\n",
              "          element.innerHTML = '';\n",
              "          dataTable['output_type'] = 'display_data';\n",
              "          await google.colab.output.renderOutput(dataTable, element);\n",
              "          const docLink = document.createElement('div');\n",
              "          docLink.innerHTML = docLinkHtml;\n",
              "          element.appendChild(docLink);\n",
              "        }\n",
              "      </script>\n",
              "    </div>\n",
              "  </div>\n",
              "  "
            ]
          },
          "metadata": {},
          "execution_count": 2
        }
      ]
    },
    {
      "cell_type": "code",
      "source": [
        "!pip install matplotlib"
      ],
      "metadata": {
        "id": "i-Z2oGFkkKXm"
      },
      "execution_count": null,
      "outputs": []
    },
    {
      "cell_type": "code",
      "source": [
        "import numpy as np\n",
        "import matplotlib.pyplot as plt\n",
        "import pandas as pd\n",
        "\n",
        "plt.rcParams['font.sans-serif'] = ['SimHei']\n",
        "plt.rcParams['axes.unicode_minus'] = False\n",
        "\n",
        "x_lable = ('2014', '2015', '2016', '2017', '2018', '2019', '2020')\n",
        "x_accepted_number = [540, 602, 643, 783, 979, 1294, 1470]\n",
        "x_total_number = [1807, 2123, 2145, 2620, 3303, 5160, 6656]\n",
        "\n",
        "bar_width = 0.2\n",
        "index_x_train = np.arange(len(x_lable))  \n",
        "index_x_test = index_x_train + bar_width  \n",
        "\n",
        "plt.bar(index_x_train, height=x_accepted_number, width=bar_width, color='#0066CC', label='Accepted Papers')\n",
        "plt.bar(index_x_test, height=x_total_number, width=bar_width, color='#339966', label='Total Submissions')\n",
        "\n",
        "plt.legend(loc=\"upper left\", prop={\"size\": 12, })  \n",
        "\n",
        "plt.yticks(fontsize=16, color='#000000') \n",
        "plt.xticks(index_x_train + bar_width / 2, x_lable, size=16) \n",
        "\n",
        "plt.ylabel('Numbers')  \n",
        "plt.title('Number of CVPR submissions and acceptances by years')  \n",
        "\n",
        "plt.show()"
      ],
      "metadata": {
        "colab": {
          "base_uri": "https://localhost:8080/",
          "height": 286
        },
        "id": "cX0R_v-fbP5_",
        "outputId": "d15a83fb-00b2-4bcd-dfe8-7ed7d86e0999"
      },
      "execution_count": 8,
      "outputs": [
        {
          "output_type": "display_data",
          "data": {
            "text/plain": [
              "<Figure size 432x288 with 1 Axes>"
            ],
            "image/png": "[encoded data removed]"
          },
          "metadata": {
            "needs_background": "light"
          }
        }
      ]
    }
  ]
}